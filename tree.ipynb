{
 "cells": [
  {
   "cell_type": "code",
   "execution_count": 1,
   "id": "d5754a2e",
   "metadata": {},
   "outputs": [],
   "source": [
    "class TreeNode:\n",
    "    def __init__(self, value):\n",
    "        self.value = value\n",
    "        self.left = None\n",
    "        self.right = None\n"
   ]
  },
  {
   "cell_type": "code",
   "execution_count": 6,
   "id": "1ef5e2ed",
   "metadata": {},
   "outputs": [],
   "source": [
    "class BinaryTree:\n",
    "    def __init__(self):\n",
    "        self.root = None\n",
    "\n",
    "    def insert(self, value):\n",
    "        if self.root is None:\n",
    "            self.root = TreeNode(value)\n",
    "        else:\n",
    "            self._insert_recursive(self.root, value)\n",
    "\n",
    "    def _insert_recursive(self, node, value):\n",
    "        if value < node.value:\n",
    "            if node.left is None:\n",
    "                node.left = TreeNode(value)\n",
    "            else:\n",
    "                self._insert_recursive(node.left, value)\n",
    "        else:\n",
    "            if node.right is None:\n",
    "                node.right = TreeNode(value)\n",
    "            else:\n",
    "                self._insert_recursive(node.right, value)\n",
    "\n",
    "    def display(self):\n",
    "        lines = self._display_aux(self.root, 0, [], 0)\n",
    "        for line in lines:\n",
    "            print(line)\n",
    "\n",
    "    def _display_aux(self, node, space, buffer, level):\n",
    "        WIDTH = 5\n",
    "\n",
    "        if node is None:\n",
    "            return buffer\n",
    "\n",
    "        space += WIDTH\n",
    "\n",
    "        buffer = self._display_aux(node.right, space, buffer, level + 1)\n",
    "\n",
    "        buffer.append(' ' * (space - WIDTH) + str(node.value))\n",
    "\n",
    "        buffer = self._display_aux(node.left, space, buffer, level + 1)\n",
    "\n",
    "        return buffer\n",
    "    \n",
    "    def search(self, value):\n",
    "        return self._search_recursive(self.root, value)\n",
    "\n",
    "    def _search_recursive(self, node, value):\n",
    "        if node is None:\n",
    "            return False\n",
    "        if node.value == value:\n",
    "            return True\n",
    "        elif value < node.value:\n",
    "            return self._search_recursive(node.left, value)\n",
    "        else:\n",
    "            return self._search_recursive(node.right, value)\n"
   ]
  },
  {
   "cell_type": "code",
   "execution_count": 7,
   "id": "dd19938c",
   "metadata": {},
   "outputs": [
    {
     "name": "stdout",
     "output_type": "stream",
     "text": [
      "          18\n",
      "     15\n",
      "          12\n",
      "10\n",
      "          7\n",
      "     5\n",
      "          3\n"
     ]
    }
   ],
   "source": [
    "bt = BinaryTree()\n",
    "bt.insert(10)\n",
    "bt.insert(5)\n",
    "bt.insert(15)\n",
    "bt.insert(3)\n",
    "bt.insert(7)\n",
    "bt.insert(12)\n",
    "bt.insert(18)\n",
    "\n",
    "bt.display()"
   ]
  },
  {
   "cell_type": "code",
   "execution_count": 9,
   "id": "2dc5d2a7",
   "metadata": {},
   "outputs": [
    {
     "data": {
      "text/plain": [
       "False"
      ]
     },
     "execution_count": 9,
     "metadata": {},
     "output_type": "execute_result"
    }
   ],
   "source": [
    "bt.search(17)"
   ]
  }
 ],
 "metadata": {
  "kernelspec": {
   "display_name": "Python 3 (ipykernel)",
   "language": "python",
   "name": "python3"
  },
  "language_info": {
   "codemirror_mode": {
    "name": "ipython",
    "version": 3
   },
   "file_extension": ".py",
   "mimetype": "text/x-python",
   "name": "python",
   "nbconvert_exporter": "python",
   "pygments_lexer": "ipython3",
   "version": "3.8.12"
  }
 },
 "nbformat": 4,
 "nbformat_minor": 5
}
